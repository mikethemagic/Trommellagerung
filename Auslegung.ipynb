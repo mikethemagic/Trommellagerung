{
 "cells": [
  {
   "cell_type": "markdown",
   "metadata": {},
   "source": [
    "# Auslegung einer Waschmaschinentrommel Welle\n",
    "\n",
    "*Beispiel*: **Miele WMH260 WPS**\n",
    "\n",
    "## Technische Daten\n",
    "- Nennkapazität an Wäsche: 8 kg\n",
    "- geschätzte Wasseraufnahmefähigkeit der Wäsche: ca. 90%\n",
    "- Restfeuchte nach Schleudern: 44% \n",
    "- Maximale Schleuderdrehzahl: 1600 U/min\n",
    "\n",
    "## Eckdaten Geometrie\n",
    "- Trommel Durchmesser: 48 cm\n",
    "- Trommel Breite: 33 cm\n",
    "- Geräteabmessungen:\n",
    "  + Länge: 85 cm\n",
    "  + Breite: 59,6 cm\n",
    "  + Höhe: 64,3 cm\n",
    " \n",
    "## Eckdaten Motor\n",
    "- Leistung: 700 Watt\n",
    "- Drehzahl: 14700 U/min\n",
    "\n",
    "## Gesucht \n",
    "Belastungen für Lagerkräfte und Momentenverlauf in der Welle:\n",
    "- Gewichtskraft der Trommel und Füllung\n",
    "\n",
    "  $G = (m_{Trommel} + m_{Füllung})\\cdot g $\n",
    "  \n",
    "- Wellenkraft des Triebriemens\n",
    "\n",
    "  $F_T = \\frac{K_A \\cdot P_{Nenn}}{v} $\n",
    "  mit\n",
    "  - $K_A$: Anwendungsfaktor\n",
    "  - $P_{Nenn}$: Zu übertragende Leistung\n",
    "  - v: Riemengeschwindigkeit\n",
    "  "
   ]
  },
  {
   "cell_type": "code",
   "execution_count": 2,
   "metadata": {},
   "outputs": [
    {
     "name": "stdout",
     "output_type": "stream",
     "text": [
      "Querkraft= 154.017 N\n"
     ]
    }
   ],
   "source": [
    "# Gewichtskraft der Trommel mit Ladung\n",
    "Nennkapazität = 8 # [kg]\n",
    "Wasseraufnahme = 0.9 # [-]\n",
    "Masse_Trommel = 0.5\n",
    "Querkraft = (Nennkapazität * (1+ Wasseraufnahme) + Masse_Trommel) * 9.81 # [N] \n",
    "print('Querkraft=', Querkraft, 'N')\n"
   ]
  }
 ],
 "metadata": {
  "interpreter": {
   "hash": "a0b743e3f46610aef585505bfb8ed266070dd1178baff540cb1eb86ae22f2f85"
  },
  "kernelspec": {
   "display_name": "Python 3.9.13 64-bit",
   "language": "python",
   "name": "python3"
  },
  "language_info": {
   "codemirror_mode": {
    "name": "ipython",
    "version": 3
   },
   "file_extension": ".py",
   "mimetype": "text/x-python",
   "name": "python",
   "nbconvert_exporter": "python",
   "pygments_lexer": "ipython3",
   "version": "3.9.13"
  },
  "orig_nbformat": 4
 },
 "nbformat": 4,
 "nbformat_minor": 2
}
