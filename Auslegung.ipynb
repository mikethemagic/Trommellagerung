{
 "cells": [
  {
   "cell_type": "markdown",
   "metadata": {},
   "source": [
    "# Auslegung einer Waschmaschinentrommel Welle\n",
    "\n",
    "*Beispiel*: **Miele WMH260 WPS**\n",
    "\n",
    "## 1. Angaben\n",
    "### Technische Daten\n",
    "- Nennkapazität an Wäsche: 8 kg\n",
    "- geschätzte Wasseraufnahmefähigkeit der Wäsche: ca. 90%\n",
    "- Restfeuchte nach Schleudern: 44% \n",
    "- Maximale Schleuderdrehzahl: 1600 U/min\n",
    "\n",
    "### Eckdaten Geometrie\n",
    "- Trommel Durchmesser: 48 cm\n",
    "- Trommel Breite: 33 cm\n",
    "- Geräteabmessungen:\n",
    "  + Länge: 85 cm\n",
    "  + Breite: 59,6 cm\n",
    "  + Höhe: 64,3 cm\n",
    " \n",
    "### Eckdaten Motor\n",
    "- Leistung: 700 Watt\n",
    "- Drehzahl: 14700 U/min\n",
    "\n",
    "## 2. Gesucht \n",
    "Belastungen für Lagerkräfte und Momentenverlauf in der Welle:\n",
    "- Gewichtskraft der Trommel und Füllung\n",
    "- Kraft der Welle auf durch den Triebriemen\n",
    "\n",
    "## 3. Berechnung\n",
    "### Gewichtskraft der Trommel:\n",
    "\n",
    "  $G = (m_{Trommel} + m_{Füllung})\\cdot g $ \n",
    "  "
   ]
  },
  {
   "cell_type": "code",
   "execution_count": 31,
   "metadata": {},
   "outputs": [
    {
     "name": "stdout",
     "output_type": "stream",
     "text": [
      "Querkraft= 154.017 N\n"
     ]
    }
   ],
   "source": [
    "# Gewichtskraft der Trommel mit Ladung\n",
    "Nennkapazität = 8 # [kg]\n",
    "Wasseraufnahme = 0.9 # [-]\n",
    "Masse_Trommel = 0.5\n",
    "Querkraft = (Nennkapazität * (1+ Wasseraufnahme) + Masse_Trommel) * 9.81 # [N] \n",
    "print('Querkraft=', Querkraft, 'N')\n"
   ]
  },
  {
   "cell_type": "markdown",
   "metadata": {},
   "source": [
    " ### Wellenkraft des Triebriemens\n",
    "\n",
    "$F_W = k * F_t$ \n",
    "\n",
    "mit \n",
    "- k: aus  Roloff/Mattek TB 16-5 \n",
    "- $F_T$: Umfangskraft am Riemen\n",
    "\n",
    "-> aus Tabelle: k = 1.5 für $\\mu \\approx$ 0.5  und $\\beta \\approx$ 180° \n",
    "\n",
    "\n",
    "Umfangskraft am Riemen\n",
    "\n",
    "  $F_t = \\frac{K_A \\cdot P_{Nenn}}{v} = \\frac{K_A \\cdot T_{Nenn}}{(d_d/2)} $\n",
    "  \n",
    "  mit\n",
    "  - $K_A$: Anwendungsfaktor\n",
    "  - $P_{Nenn}$: Zu übertragende Leistung\n",
    "  - v: Riemengeschwindigkeit\n",
    "  - $d_d$: Scheibenrichtdurchmesser\n",
    "\n",
    "$K_A$:\n",
    " getriebene Maschine \\ Antrieb | gleichmässig | leichte Stöße | mässige Stöße| schwere Stöße|\n",
    "--------      | ---    | ---  | ---  | ---  |\n",
    "gleichmässig  | 1.0    | 1.1  | 1.25 | 1.5  |\n",
    "leichte Stöße | 1.25   | 1.35 | 1.5  | 1.75 |\n",
    "mässige Stöße | 1.5    | 1.6  | 1.75 | 2.0  |\n",
    "schwere Stöße | 1.75   | 1.85 | 2.0  | 2.25 |\n",
    "\n",
    "-> Annahme: $K_A$ = 1.35 \n",
    "\n",
    "$T_{Nenn} = \\frac{P_{Motor}}{2\\pi \\cdot n}$\n",
    "\n",
    "$d_d \\approx d_{Trommel}/2$\n"
   ]
  },
  {
   "cell_type": "code",
   "execution_count": 32,
   "metadata": {},
   "outputs": [
    {
     "name": "stdout",
     "output_type": "stream",
     "text": [
      "T_Nenn= 4.1778 Nm\n",
      "F_T= 47.0 N\n",
      "F_W= 70.5 N\n"
     ]
    }
   ],
   "source": [
    "# Wellenkraft durch Triebriemen\n",
    "import math\n",
    "\n",
    "P_Motor = 700 # [W]\n",
    "n_Trommel = 1600 # [U/min]\n",
    "d_Trommel = 0.48 # [m]\n",
    "d_d = d_Trommel/2 # [m]\n",
    "n_Trommel = 1600 \n",
    "\n",
    "T_Nenn = P_Motor/(2* math.pi * n_Trommel/60)\n",
    "print('T_Nenn =', round(T_Nenn, 4), 'Nm' )\n",
    "\n",
    "K_A = 1.35\n",
    "\n",
    "F_T = K_A * T_Nenn / (d_d/2.0)\n",
    "print('F_T =', round(F_T, 2), 'N' )\n",
    "\n",
    "k = 1.5\n",
    "F_W = k * F_T\n",
    "print('F_W =', round(F_W, 2), 'N' )\n",
    "\n"
   ]
  }
 ],
 "metadata": {
  "interpreter": {
   "hash": "a0b743e3f46610aef585505bfb8ed266070dd1178baff540cb1eb86ae22f2f85"
  },
  "kernelspec": {
   "display_name": "Python 3.9.13 64-bit",
   "language": "python",
   "name": "python3"
  },
  "language_info": {
   "codemirror_mode": {
    "name": "ipython",
    "version": 3
   },
   "file_extension": ".py",
   "mimetype": "text/x-python",
   "name": "python",
   "nbconvert_exporter": "python",
   "pygments_lexer": "ipython3",
   "version": "3.9.13"
  },
  "orig_nbformat": 4
 },
 "nbformat": 4,
 "nbformat_minor": 2
}
